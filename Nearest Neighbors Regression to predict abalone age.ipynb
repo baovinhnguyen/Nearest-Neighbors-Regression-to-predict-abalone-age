{
 "cells": [
  {
   "cell_type": "markdown",
   "metadata": {},
   "source": [
    "## Abalone Age\n",
    "\n",
    "### 2.1: Build k-neighor regression models.\n"
   ]
  },
  {
   "cell_type": "code",
   "execution_count": 2,
   "metadata": {},
   "outputs": [],
   "source": [
    "# Load 3 feature version of x arrays\n",
    "x_tr_M = np.loadtxt('./data_abalone/x_train.csv', delimiter=',', skiprows=1)\n",
    "x_va_N = np.loadtxt('./data_abalone/x_valid.csv', delimiter=',', skiprows=1)\n",
    "x_te_N = np.loadtxt('./data_abalone/x_test.csv', delimiter=',', skiprows=1)\n",
    "\n",
    "y_tr_M = np.loadtxt('./data_abalone/y_train.csv', delimiter=',', skiprows=1)\n",
    "y_va_N = np.loadtxt('./data_abalone/y_valid.csv', delimiter=',', skiprows=1)\n",
    "y_te_N = np.loadtxt('./data_abalone/y_test.csv', delimiter=',', skiprows=1)\n",
    "\n",
    "\n",
    "k_list = [1, 3, 5, 7, 9, 11, 21, 41, 61, 81, 101, 201, 401, 801]\n",
    "models = [sklearn.neighbors.KNeighborsRegressor(n_neighbors = k) for k in k_list]\n",
    "mse_tr = []\n",
    "mse_va = []\n",
    "mse_te = []\n",
    "for model in models:\n",
    "    m = model.fit(x_tr_M, y_tr_M)\n",
    "    pred_tr = m.predict(x_tr_M)\n",
    "    mse_tr.append(sklearn.metrics.mean_squared_error(y_tr_M, pred_tr))\n",
    "    pred_va = m.predict(x_va_N)\n",
    "    mse_va.append(sklearn.metrics.mean_squared_error(y_va_N, pred_va))\n",
    "    pred_te = m.predict(x_te_N)\n",
    "    mse_te.append(sklearn.metrics.mean_squared_error(y_te_N, pred_te))\n"
   ]
  },
  {
   "cell_type": "code",
   "execution_count": 9,
   "metadata": {},
   "outputs": [
    {
     "data": {
      "text/plain": [
       "array([ 8.45817728, 10.53682896, 10.49188514, ..., 11.30461923,\n",
       "        8.57178527,  7.37702871])"
      ]
     },
     "execution_count": 9,
     "metadata": {},
     "output_type": "execute_result"
    }
   ],
   "source": [
    "pred_tr"
   ]
  },
  {
   "cell_type": "markdown",
   "metadata": {},
   "source": [
    "### 2.2: Plot the MSE.\n",
    "\n"
   ]
  },
  {
   "cell_type": "code",
   "execution_count": 84,
   "metadata": {},
   "outputs": [
    {
     "data": {
      "image/png": "[encoded data removed]",
      "text/plain": [
       "<Figure size 432x288 with 1 Axes>"
      ]
     },
     "metadata": {
      "needs_background": "light"
     },
     "output_type": "display_data"
    }
   ],
   "source": [
    "\n",
    "fig, ax = plt.subplots()\n",
    "ax.plot(k_list, mse_va, label = 'Validation set')\n",
    "ax.plot(k_list, mse_te, label = 'Test set')\n",
    "plt.xlabel('n_neighbors');\n",
    "plt.ylabel('mean squared error');\n",
    "ax.legend()\n",
    "plt.show()\n",
    "\n"
   ]
  },
  {
   "cell_type": "markdown",
   "metadata": {},
   "source": [
    "### 2.3: Determine best overall model."
   ]
  },
  {
   "cell_type": "code",
   "execution_count": 85,
   "metadata": {},
   "outputs": [
    {
     "name": "stdout",
     "output_type": "stream",
     "text": [
      "The minimal error model on the validation set has n_neighbors = 6\n",
      "The minimal error model on the training set with n_neighbors = 4.384234.\n",
      "The minimal error model on the validation set with n_neighbors = 4.804739.\n",
      "The minimal error model on the test set with n_neighbors = 4.542798.\n"
     ]
    }
   ],
   "source": [
    "best_k_va = mse_va.index(min(mse_va))\n",
    "print(\"The minimal error model on the validation set has n_neighbors = %d\" % best_k_va) # TODO: fix\n",
    "\n",
    "# TODO: print out MSE values for best model\n",
    "print(\"The minimal error model on the training set with n_neighbors = %f.\" % mse_tr[best_k_va]) # TODO: fix\n",
    "print(\"The minimal error model on the validation set with n_neighbors = %f.\" % mse_va[best_k_va]) # TODO: fix\n",
    "print(\"The minimal error model on the test set with n_neighbors = %f.\" % mse_te[best_k_va]) # TODO: fix"
   ]
  }
 ],
 "metadata": {
  "kernelspec": {
   "display_name": "Python 3",
   "language": "python",
   "name": "python3"
  },
  "language_info": {
   "codemirror_mode": {
    "name": "ipython",
    "version": 3
   },
   "file_extension": ".py",
   "mimetype": "text/x-python",
   "name": "python",
   "nbconvert_exporter": "python",
   "pygments_lexer": "ipython3",
   "version": "3.7.3"
  }
 },
 "nbformat": 4,
 "nbformat_minor": 2
}
